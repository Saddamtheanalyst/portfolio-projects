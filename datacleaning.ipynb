{
 "cells": [
  {
   "cell_type": "code",
   "execution_count": 2,
   "id": "9f6c4cec",
   "metadata": {},
   "outputs": [],
   "source": [
    "import os\n",
    "import pandas as pd\n",
    "import calendar\n",
    "#from math import radians\n",
    "#import haversine"
   ]
  },
  {
   "cell_type": "code",
   "execution_count": 3,
   "id": "104e84a6",
   "metadata": {},
   "outputs": [],
   "source": [
    "path = r'D:\\Traning\\clean_data.csv'"
   ]
  },
  {
   "cell_type": "code",
   "execution_count": 4,
   "id": "98a6d0e3",
   "metadata": {},
   "outputs": [],
   "source": [
    "df = pd.read_csv(path)"
   ]
  },
  {
   "cell_type": "code",
   "execution_count": null,
   "id": "d9286ef7",
   "metadata": {},
   "outputs": [],
   "source": [
    "df.info()"
   ]
  },
  {
   "cell_type": "code",
   "execution_count": null,
   "id": "a4689b3a",
   "metadata": {},
   "outputs": [],
   "source": [
    "df1 = df[(df['ride_duration'] != '0:00') & (df['ride_duration'] <= '23:59')]"
   ]
  },
  {
   "cell_type": "code",
   "execution_count": null,
   "id": "1727de9a",
   "metadata": {},
   "outputs": [],
   "source": [
    "df1.info()"
   ]
  },
  {
   "cell_type": "code",
   "execution_count": null,
   "id": "20d8466f",
   "metadata": {},
   "outputs": [],
   "source": [
    "# Add month_name column\n",
    "df['started_at'] = pd.to_datetime(df['started_at'])\n",
    "df['month_name'] = df['started_at'].dt.month_name()\n",
    "df['month_name'] = df['started_at'].dt.month.apply(lambda x: calendar.month_name[x])\n"
   ]
  },
  {
   "cell_type": "code",
   "execution_count": null,
   "id": "0dcdbaff",
   "metadata": {},
   "outputs": [],
   "source": [
    "df"
   ]
  },
  {
   "cell_type": "code",
   "execution_count": null,
   "id": "cc2a9f49",
   "metadata": {},
   "outputs": [],
   "source": [
    "df['distance'] = df.apply(lambda x: haversine.haversine((x['start_lat'], x['start_lng']), (x['end_lat'], x['end_lng'])), axis=1)\n"
   ]
  },
  {
   "cell_type": "code",
   "execution_count": null,
   "id": "829e5c58",
   "metadata": {},
   "outputs": [],
   "source": [
    "import math\n",
    "\n",
    "def haversine_distance(lat1, lon1, lat2, lon2):\n",
    "    # Convert latitude and longitude to radians\n",
    "    lat1, lon1, lat2, lon2 = map(math.radians, [lat1, lon1, lat2, lon2])\n",
    "\n",
    "    # Use the haversine formula to calculate the distance\n",
    "    dlat = lat2 - lat1\n",
    "    dlon = lon2 - lon1\n",
    "    a = math.sin(dlat/2)**2 + math.cos(lat1) * math.cos(lat2) * math.sin(dlon/2)**2\n",
    "    c = 2 * math.asin(math.sqrt(a))\n",
    "    r = 6371  # Radius of Earth in kilometers\n",
    "    return c * r * 0.621371  # Convert kilometers to miles\n",
    "\n",
    "df['distance'] = df.apply(lambda row: haversine_distance(row['start_lat'], row['start_lng'], row['end_lat'], row['end_lng']), axis=1)\n"
   ]
  },
  {
   "cell_type": "code",
   "execution_count": null,
   "id": "8b21a0c5",
   "metadata": {},
   "outputs": [],
   "source": [
    "df['distance'] = df['distance'].round(1)"
   ]
  },
  {
   "cell_type": "code",
   "execution_count": null,
   "id": "4917fdfb",
   "metadata": {},
   "outputs": [],
   "source": [
    "from datetime import datetime, timedelta\n",
    "\n",
    "df['ride_duration'] = df['ride_duration'].dt.hour*60 + df['ride_duration'].dt.minute\n",
    "df['ride_duration'] = df['ride_duration'].astype(int)\n",
    "\n"
   ]
  },
  {
   "cell_type": "code",
   "execution_count": null,
   "id": "d1fa6942",
   "metadata": {},
   "outputs": [],
   "source": [
    "df.to_csv(r'D:\\Traning\\clean_data.csv')"
   ]
  },
  {
   "cell_type": "code",
   "execution_count": 8,
   "id": "80a13129",
   "metadata": {},
   "outputs": [],
   "source": [
    "member_frequency = df[['member_casual']]"
   ]
  },
  {
   "cell_type": "code",
   "execution_count": 10,
   "id": "8c8aae21",
   "metadata": {},
   "outputs": [],
   "source": [
    "member_frequency.to_csv(r'D:\\Traning\\Number of trips.csv')"
   ]
  },
  {
   "cell_type": "code",
   "execution_count": null,
   "id": "420cff83",
   "metadata": {},
   "outputs": [],
   "source": []
  }
 ],
 "metadata": {
  "kernelspec": {
   "display_name": "Python 3 (ipykernel)",
   "language": "python",
   "name": "python3"
  },
  "language_info": {
   "codemirror_mode": {
    "name": "ipython",
    "version": 3
   },
   "file_extension": ".py",
   "mimetype": "text/x-python",
   "name": "python",
   "nbconvert_exporter": "python",
   "pygments_lexer": "ipython3",
   "version": "3.9.13"
  }
 },
 "nbformat": 4,
 "nbformat_minor": 5
}
