{
 "cells": [
  {
   "cell_type": "code",
   "execution_count": null,
   "id": "53d87e73",
   "metadata": {},
   "outputs": [],
   "source": [
    "import calendar\n",
    "import pandas as pd\n",
    "import os\n",
    "from datetime import datetime\n",
    "import numpy as np"
   ]
  },
  {
   "cell_type": "code",
   "execution_count": null,
   "id": "6bd0e6fc",
   "metadata": {},
   "outputs": [],
   "source": [
    "directory = r\"D:\\Traning\\Google_data_analysis_project\\New folder\\New folder\\202109.xlsx\""
   ]
  },
  {
   "cell_type": "code",
   "execution_count": null,
   "id": "0d34cdb7",
   "metadata": {},
   "outputs": [],
   "source": [
    "df = pd.read_excel(directory)"
   ]
  },
  {
   "cell_type": "code",
   "execution_count": null,
   "id": "7fb1d8f9",
   "metadata": {},
   "outputs": [],
   "source": [
    "df.columns"
   ]
  },
  {
   "cell_type": "code",
   "execution_count": null,
   "id": "aa36bffb",
   "metadata": {},
   "outputs": [],
   "source": [
    "df.head(10)"
   ]
  },
  {
   "cell_type": "code",
   "execution_count": null,
   "id": "b460eb10",
   "metadata": {},
   "outputs": [],
   "source": [
    "# Drop rows where ride_id length is not equal to 16\n",
    "df = df[df['ride_id'].str.len() == 16]"
   ]
  },
  {
   "cell_type": "code",
   "execution_count": null,
   "id": "e76a1247",
   "metadata": {},
   "outputs": [],
   "source": [
    "df.isna().sum(axis=1)"
   ]
  },
  {
   "cell_type": "code",
   "execution_count": null,
   "id": "5b50fe95",
   "metadata": {},
   "outputs": [],
   "source": [
    "df.info()"
   ]
  },
  {
   "cell_type": "code",
   "execution_count": null,
   "id": "160d8cb9",
   "metadata": {},
   "outputs": [],
   "source": [
    "df1 = df.dropna()\n",
    "df = df1"
   ]
  },
  {
   "cell_type": "code",
   "execution_count": null,
   "id": "53b1afc6",
   "metadata": {},
   "outputs": [],
   "source": [
    "df.info()"
   ]
  },
  {
   "cell_type": "code",
   "execution_count": null,
   "id": "e073b1c8",
   "metadata": {
    "scrolled": false
   },
   "outputs": [],
   "source": [
    "df"
   ]
  },
  {
   "cell_type": "code",
   "execution_count": null,
   "id": "2e35a491",
   "metadata": {},
   "outputs": [],
   "source": [
    "df['started_at'] = pd.to_datetime(df['started_at'])\n",
    "df['ended_at'] = pd.to_datetime(df['ended_at'])\n",
    "\n",
    "df['ride_duration'] = df['ended_at'] - df['started_at']\n",
    "\n",
    "total_seconds = df['ride_duration'].dt.total_seconds()\n",
    "hours, remainder = divmod(total_seconds, 3600)\n",
    "minutes, seconds = divmod(remainder, 60)\n",
    "df['ride_duration'] = hours.apply(lambda x: f\"{int(x):02}\") + \":\" + minutes.apply(lambda x: f\"{int(x):02}\")"
   ]
  },
  {
   "cell_type": "code",
   "execution_count": null,
   "id": "86c1fad2",
   "metadata": {},
   "outputs": [],
   "source": [
    "df"
   ]
  },
  {
   "cell_type": "code",
   "execution_count": null,
   "id": "8d683b4e",
   "metadata": {},
   "outputs": [],
   "source": [
    "df['Weekday'] = pd.to_datetime(df['started_at'], format='%d-%m-%y-%H:%M').dt.strftime('%A')\n"
   ]
  },
  {
   "cell_type": "code",
   "execution_count": null,
   "id": "fd53aed3",
   "metadata": {},
   "outputs": [],
   "source": [
    "df"
   ]
  },
  {
   "cell_type": "code",
   "execution_count": null,
   "id": "309735a8",
   "metadata": {},
   "outputs": [],
   "source": [
    "df['ride_duration'] = pd.to_numeric(df['ride_duration'], errors='coerce')"
   ]
  },
  {
   "cell_type": "code",
   "execution_count": null,
   "id": "ed6c89d2",
   "metadata": {},
   "outputs": [],
   "source": [
    "df['Hour'] = 0\n",
    "df['Hour'] = pd.to_datetime(df['started_at'], format='%d%m%y%H%M').dt.hour\n",
    "df.loc[df['Hour'] <= 12, 'day_period'] = 'Morning'\n",
    "df.loc[(df['Hour'] > 12) & (df['Hour'] <= 17), 'day_period'] = 'Afternoon'\n",
    "df.loc[df['Hour'] > 17, 'day_period'] = 'Evening'"
   ]
  },
  {
   "cell_type": "code",
   "execution_count": null,
   "id": "2841ba18",
   "metadata": {},
   "outputs": [],
   "source": [
    "df"
   ]
  },
  {
   "cell_type": "code",
   "execution_count": null,
   "id": "c616a7f7",
   "metadata": {},
   "outputs": [],
   "source": [
    "df['Day'] = pd.to_datetime(df['started_at'], format='%d%m%y%H%M').dt.day\n",
    "df"
   ]
  },
  {
   "cell_type": "code",
   "execution_count": null,
   "id": "a8832d9e",
   "metadata": {},
   "outputs": [],
   "source": [
    "df.drop(columns=['Unnamed: 0','Minute','Month'])"
   ]
  },
  {
   "cell_type": "code",
   "execution_count": null,
   "id": "a148a1a4",
   "metadata": {},
   "outputs": [],
   "source": [
    "df.to_excel(r\"D:\\Traning\\Google_data_analysis_project\\New folder\\202109.xlsx\",index=False)"
   ]
  },
  {
   "cell_type": "code",
   "execution_count": null,
   "id": "ec093040",
   "metadata": {},
   "outputs": [],
   "source": []
  },
  {
   "cell_type": "code",
   "execution_count": null,
   "id": "78279239",
   "metadata": {},
   "outputs": [],
   "source": []
  }
 ],
 "metadata": {
  "kernelspec": {
   "display_name": "Python 3 (ipykernel)",
   "language": "python",
   "name": "python3"
  },
  "language_info": {
   "codemirror_mode": {
    "name": "ipython",
    "version": 3
   },
   "file_extension": ".py",
   "mimetype": "text/x-python",
   "name": "python",
   "nbconvert_exporter": "python",
   "pygments_lexer": "ipython3",
   "version": "3.9.13"
  }
 },
 "nbformat": 4,
 "nbformat_minor": 5
}
