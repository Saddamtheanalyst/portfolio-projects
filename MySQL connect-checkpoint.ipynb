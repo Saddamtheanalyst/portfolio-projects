{
 "cells": [
  {
   "cell_type": "code",
   "execution_count": 1,
   "id": "0e8dcb14",
   "metadata": {},
   "outputs": [
    {
     "name": "stdout",
     "output_type": "stream",
     "text": [
      "Requirement already satisfied: mysql-connector-python in c:\\users\\perfect\\anaconda3\\lib\\site-packages (8.1.0)\n",
      "Requirement already satisfied: protobuf<=4.21.12,>=4.21.1 in c:\\users\\perfect\\anaconda3\\lib\\site-packages (from mysql-connector-python) (4.21.12)\n",
      "Note: you may need to restart the kernel to use updated packages.\n"
     ]
    }
   ],
   "source": [
    "pip install mysql-connector-python"
   ]
  },
  {
   "cell_type": "code",
   "execution_count": null,
   "id": "b436d0c3",
   "metadata": {},
   "outputs": [],
   "source": [
    "import mysql.connector\n",
    "\n",
    "# Establish a connection to the MySQL database\n",
    "conn = mysql.connector.connect(\n",
    "    host='localhost',\n",
    "    user='root',\n",
    "    password='asdf',\n",
    "    database='emaildb'\n",
    ")\n",
    "\n",
    "# Create a cursor to interact with the database\n",
    "cur = conn.cursor()\n",
    "\n",
    "# Drop the table if it exists (only needed if you want to reset the table)\n",
    "cur.execute('DROP TABLE IF EXISTS Counts')\n",
    "\n",
    "# Create or reset the table with the renamed column\n",
    "cur.execute('''\n",
    "CREATE TABLE IF NOT EXISTS Counts (org TEXT, email_count INTEGER)''')\n",
    "\n",
    "fname = input('Enter file name: ')\n",
    "if len(fname) < 1:\n",
    "    fname = r'C:\\Users\\Perfect\\Downloads\\code3\\code3\\mbox.txt'\n",
    "\n",
    "try:\n",
    "    fh = open(fname)\n",
    "except:\n",
    "    print('File cannot be opened:', fname)\n",
    "    quit()\n",
    "\n",
    "for line in fh:\n",
    "    if not line.startswith('From: '):\n",
    "        continue\n",
    "    pieces = line.split()\n",
    "    email = pieces[1]\n",
    "    org = email.split('@')[1]  # Extract the organization (domain) from the email\n",
    "\n",
    "    # Check if the organization already exists in the table\n",
    "    cur.execute('SELECT email_count FROM Counts WHERE org = %(org)s', {'org': org})\n",
    "    row = cur.fetchone()\n",
    "\n",
    "    if row is None:\n",
    "        cur.execute('INSERT INTO Counts (org, email_count) VALUES (%(org)s, 1)', {'org': org})\n",
    "    else:\n",
    "        cur.execute('UPDATE Counts SET email_count = email_count + 1 WHERE org = %(org)s', {'org': org})\n",
    "\n",
    "# Commit the changes to the database after processing all records\n",
    "conn.commit()\n",
    "\n",
    "# SQL query to retrieve the top 10 organizations with the highest email counts\n",
    "sqlstr = 'SELECT org, email_count FROM Counts ORDER BY email_count DESC LIMIT 10'\n",
    "\n",
    "rows = cur.fetchall()  # Fetch all the results\n",
    "\n",
    "for row in rows:\n",
    "    print(row[0], row[1])\n",
    "\n",
    "cur.close()\n"
   ]
  }
 ],
 "metadata": {
  "kernelspec": {
   "display_name": "Python 3 (ipykernel)",
   "language": "python",
   "name": "python3"
  },
  "language_info": {
   "codemirror_mode": {
    "name": "ipython",
    "version": 3
   },
   "file_extension": ".py",
   "mimetype": "text/x-python",
   "name": "python",
   "nbconvert_exporter": "python",
   "pygments_lexer": "ipython3",
   "version": "3.10.9"
  }
 },
 "nbformat": 4,
 "nbformat_minor": 5
}
