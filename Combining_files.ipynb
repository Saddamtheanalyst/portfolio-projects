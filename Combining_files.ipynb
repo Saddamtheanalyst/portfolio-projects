{
 "cells": [
  {
   "cell_type": "code",
   "execution_count": null,
   "id": "a07cc8b8",
   "metadata": {},
   "outputs": [],
   "source": [
    "import os\n",
    "import pandas as pd\n",
    "import numpy as np\n",
    "import calendar     "
   ]
  },
  {
   "cell_type": "code",
   "execution_count": null,
   "id": "b4e2c694",
   "metadata": {},
   "outputs": [],
   "source": [
    "# Set directory where the CSV files are located\n",
    "directory = 'D:\\\\New folder (3)'"
   ]
  },
  {
   "cell_type": "code",
   "execution_count": null,
   "id": "b3919b1f",
   "metadata": {},
   "outputs": [],
   "source": [
    "# Iterate through all CSV files in the directory\n",
    "for filename in os.listdir(directory):\n",
    "    if filename.endswith('.csv'):\n",
    "        # Read CSV file into a dataframe\n",
    "        df = pd.read_csv(os.path.join(directory, filename))"
   ]
  },
  {
   "cell_type": "code",
   "execution_count": null,
   "id": "831a96a2",
   "metadata": {},
   "outputs": [],
   "source": [
    "# drop duplicates\n",
    "df = df.drop_duplicates()"
   ]
  },
  {
   "cell_type": "code",
   "execution_count": null,
   "id": "46d519f2",
   "metadata": {},
   "outputs": [],
   "source": [
    "# drop rows where values are empty or blank or null or nan\n",
    "df = df.dropna()        "
   ]
  },
  {
   "cell_type": "code",
   "execution_count": null,
   "id": "15ac8c10",
   "metadata": {},
   "outputs": [],
   "source": [
    " # Drop rows where ride_id length is not equal to 16\n",
    "df = df[df['ride_id'].str.len() == 16]"
   ]
  },
  {
   "cell_type": "code",
   "execution_count": null,
   "id": "56e409af",
   "metadata": {},
   "outputs": [],
   "source": [
    "# Convert start_station_name, start_station_id, end_station_name, end_station_id to text\n",
    "df[['start_station_name', 'start_station_id', 'end_station_name', 'end_station_id']] = df[['start_station_name', 'start_station_id', 'end_station_name', 'end_station_id']].astype(str)"
   ]
  },
  {
   "cell_type": "code",
   "execution_count": null,
   "id": "0d8315ff",
   "metadata": {},
   "outputs": [],
   "source": [
    "# Convert started_at and ended_at columns to datetime64 format\n",
    "df['started_at'] = pd.to_datetime(df['started_at'])\n",
    "df['ended_at'] = pd.to_datetime(df['ended_at'])\n"
   ]
  },
  {
   "cell_type": "code",
   "execution_count": null,
   "id": "8767c49b",
   "metadata": {},
   "outputs": [],
   "source": [
    "# Trim leading, trailing spaces and leading/trailing special characters from all columns\n",
    "df = df.apply(lambda x: x.str.strip() if x.dtype == \"object\" else x)\n"
   ]
  },
  {
   "cell_type": "code",
   "execution_count": null,
   "id": "d41a60da",
   "metadata": {},
   "outputs": [],
   "source": [
    "# Create new columns ride_duration, Day, and weekday\n",
    "df['ride_duration'] = df['ended_at'] - df['started_at']\n",
    "df['ride_duration'] = (pd.to_datetime('1970-01-01') + df['ride_duration']).dt.strftime('%H:%M')\n",
    "df['Day'] = df['started_at'].dt.day\n",
    "df['weekday'] = df['started_at'].dt.weekday.apply(lambda x: calendar.day_name[x])\n"
   ]
  },
  {
   "cell_type": "code",
   "execution_count": null,
   "id": "3d5a8c30",
   "metadata": {},
   "outputs": [],
   "source": [
    "# Create a new column day_session\n",
    "        def extract_day_session(hour):\n",
    "if hour >= 0 and hour < 12:\n",
    "    return \"Morning\"\n",
    "elif hour >= 12 and hour < 17:\n",
    "    return \"Afternoon\"\n",
    "else:\n",
    "    return \"Evening\"\n",
    "df['day_session'] = df['started_at'].dt.hour.apply(extract_day_session)"
   ]
  },
  {
   "cell_type": "code",
   "execution_count": null,
   "id": "1f74bfbb",
   "metadata": {},
   "outputs": [],
   "source": [
    "# save the dataframe as excel file\n",
    "df.to_excel(os.path.join(directory, filename + '_cleaned.xlsx'), index=False)\n"
   ]
  },
  {
   "cell_type": "code",
   "execution_count": 3,
   "id": "2481247f",
   "metadata": {},
   "outputs": [],
   "source": [
    "path = r\"D:\\Traning\\Google_data_analysis_project\\Cyclistic\""
   ]
  },
  {
   "cell_type": "code",
   "execution_count": null,
   "id": "3fdc98ce",
   "metadata": {},
   "outputs": [],
   "source": [
    "# Create an empty list to store the dataframes\n",
    "dataframes = []"
   ]
  },
  {
   "cell_type": "code",
   "execution_count": null,
   "id": "73ae5e75",
   "metadata": {},
   "outputs": [],
   "source": [
    "# Iterate through the files in the directory\n",
    "for file in os.listdir(path):\n",
    "    if file.endswith(\".csv\"):\n",
    "        # Read the file into a dataframe\n",
    "        df = pd.read_csv(os.path.join(path, file))\n",
    "        # Append the dataframe to the list\n",
    "        dataframes.append(df)\n"
   ]
  },
  {
   "cell_type": "code",
   "execution_count": null,
   "id": "37a7374b",
   "metadata": {},
   "outputs": [],
   "source": [
    "# Concatenate the dataframes row-wise\n",
    "result = pd.concat(dataframes, ignore_index=True)\n"
   ]
  },
  {
   "cell_type": "code",
   "execution_count": null,
   "id": "817f9f6f",
   "metadata": {},
   "outputs": [],
   "source": [
    "# Keep the heading of the first file\n",
    "result.columns = dataframes[0].columns\n"
   ]
  },
  {
   "cell_type": "code",
   "execution_count": null,
   "id": "49774a22",
   "metadata": {},
   "outputs": [],
   "source": [
    "# Save the concatenated dataframe as a csv file\n",
    "result.to_csv(r'D:\\clean_data_2021.csv', index=False)"
   ]
  }
 ],
 "metadata": {
  "kernelspec": {
   "display_name": "Python 3 (ipykernel)",
   "language": "python",
   "name": "python3"
  },
  "language_info": {
   "codemirror_mode": {
    "name": "ipython",
    "version": 3
   },
   "file_extension": ".py",
   "mimetype": "text/x-python",
   "name": "python",
   "nbconvert_exporter": "python",
   "pygments_lexer": "ipython3",
   "version": "3.9.13"
  }
 },
 "nbformat": 4,
 "nbformat_minor": 5
}
